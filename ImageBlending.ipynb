{
 "cells": [
  {
   "cell_type": "markdown",
   "id": "21885627",
   "metadata": {},
   "source": [
    "## Image blending"
   ]
  },
  {
   "cell_type": "code",
   "execution_count": 1,
   "id": "16a876f6",
   "metadata": {},
   "outputs": [],
   "source": [
    "import cv2\n",
    "import numpy as np"
   ]
  },
  {
   "cell_type": "code",
   "execution_count": 13,
   "id": "c224ac8e",
   "metadata": {},
   "outputs": [],
   "source": [
    "img1 = cv2.resize(cv2.imread('../Images/rose.jpeg'), (500,400))\n",
    "img2 = cv2.resize(cv2.imread('../Images/tree.jpg'), (500,400))\n",
    "\n",
    "# we have a 2 methods to blend the image cv2.add(), cv.addWeight()\n",
    "# add() if you think it work as + operator it not if add images using + pixels will destroy\n",
    "result1 = img1 + img2\n",
    "\n",
    "# using add it blend images but we cannot handle that individual image to see more\n",
    "result2 = cv2.add(img1, img2)\n",
    "\n",
    "# addWeight is a method we can handle the blending to giving weights to image\n",
    "result3 = cv2.addWeighted(img1, 0.5, img2, 0.5, 0)\n",
    "result4 = cv2.addWeighted(img1, 0.7, img2, 0.3,2)\n",
    "\n",
    "cv2.imshow('using addWeighted', result3)\n",
    "cv2.imshow('using add', result4)\n",
    "# cv2.imshow('using +', result1)\n",
    "# cv2.imshow('trees', img1)\n",
    "# cv2.imshow('rose', img2)\n",
    "cv2.waitKey()\n",
    "cv2.destroyAllWindows()"
   ]
  },
  {
   "cell_type": "markdown",
   "id": "452d47a4",
   "metadata": {},
   "source": [
    "### Mini image blending project"
   ]
  },
  {
   "cell_type": "code",
   "execution_count": 6,
   "id": "31b73e9a",
   "metadata": {},
   "outputs": [],
   "source": [
    "\n",
    "def get(x):\n",
    "    pass\n",
    "\n",
    "cv2.namedWindow('blending')\n",
    "cv2.createTrackbar('aplha','blending', 0, 100, get)\n",
    "switch = '0:OFF 1:ON'\n",
    "cv2.createTrackbar(switch, 'blending', 0, 1, get)\n",
    "img = np.zeros((512,512,3), np.uint8)\n",
    "img1 = cv2.resize(cv2.imread('../Images/rose.jpeg'), (600, 500))\n",
    "img2 = cv2.resize(cv2.imread('../Images/tree.jpg'), (600, 500))\n",
    "\n",
    "while True:\n",
    "    s = cv2.getTrackbarPos(switch, 'blending')\n",
    "    a = float(cv2.getTrackbarPos('aplha', 'blending')/100)\n",
    "    \n",
    "    if switch == 0:\n",
    "        i = img[:]\n",
    "    else:\n",
    "        i = cv2.addWeighted(img1, 1-a, img2, a, 5)\n",
    "        cv2.putText(i, 'alpha'+str(a),(20, 50), cv2.FONT_HERSHEY_COMPLEX, 1, (255,255,255), 1, cv2.LINE_AA) \n",
    "    cv2.imshow('output', i)\n",
    "    if cv2.waitKey(1) == ord('q'):\n",
    "        break\n",
    "cv2.destroyAllWindows()"
   ]
  }
 ],
 "metadata": {
  "kernelspec": {
   "display_name": "Python 3 (ipykernel)",
   "language": "python",
   "name": "python3"
  },
  "language_info": {
   "codemirror_mode": {
    "name": "ipython",
    "version": 3
   },
   "file_extension": ".py",
   "mimetype": "text/x-python",
   "name": "python",
   "nbconvert_exporter": "python",
   "pygments_lexer": "ipython3",
   "version": "3.9.7"
  }
 },
 "nbformat": 4,
 "nbformat_minor": 5
}
